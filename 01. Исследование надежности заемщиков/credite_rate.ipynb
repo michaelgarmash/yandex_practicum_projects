{
 "cells": [
  {
   "cell_type": "markdown",
   "id": "8b7b1384",
   "metadata": {
    "toc": true
   },
   "source": [
    "<h1>Table of Contents<span class=\"tocSkip\"></span></h1>\n",
    "<div class=\"toc\"><ul class=\"toc-item\"><li><span><a href=\"#Описание-проекта\" data-toc-modified-id=\"Описание-проекта-1\"><span class=\"toc-item-num\">1&nbsp;&nbsp;</span>Описание проекта</a></span></li><li><span><a href=\"#Описание-данных\" data-toc-modified-id=\"Описание-данных-2\"><span class=\"toc-item-num\">2&nbsp;&nbsp;</span>Описание данных</a></span></li><li><span><a href=\"#Предобработка-данных\" data-toc-modified-id=\"Предобработка-данных-3\"><span class=\"toc-item-num\">3&nbsp;&nbsp;</span>Предобработка данных</a></span></li><li><span><a href=\"#Анализ-данных\" data-toc-modified-id=\"Анализ-данных-4\"><span class=\"toc-item-num\">4&nbsp;&nbsp;</span>Анализ данных</a></span><ul class=\"toc-item\"><li><span><a href=\"#Есть-ли-зависимость-между-количеством-детей-и-возвратом-кредита-в-срок?\" data-toc-modified-id=\"Есть-ли-зависимость-между-количеством-детей-и-возвратом-кредита-в-срок?-4.1\"><span class=\"toc-item-num\">4.1&nbsp;&nbsp;</span>Есть ли зависимость между количеством детей и возвратом кредита в срок?</a></span></li><li><span><a href=\"#Есть-ли-зависимость-между-семейным-положением-и-возвратом-кредита-в-срок?\" data-toc-modified-id=\"Есть-ли-зависимость-между-семейным-положением-и-возвратом-кредита-в-срок?-4.2\"><span class=\"toc-item-num\">4.2&nbsp;&nbsp;</span>Есть ли зависимость между семейным положением и возвратом кредита в срок?</a></span></li><li><span><a href=\"#Есть-ли-зависимость-между-уровнем-дохода-и-возвратом-кредита-в-срок?\" data-toc-modified-id=\"Есть-ли-зависимость-между-уровнем-дохода-и-возвратом-кредита-в-срок?-4.3\"><span class=\"toc-item-num\">4.3&nbsp;&nbsp;</span>Есть ли зависимость между уровнем дохода и возвратом кредита в срок?</a></span></li><li><span><a href=\"#Как-разные-цели-кредита-влияют-на-его-возврат-в-срок?\" data-toc-modified-id=\"Как-разные-цели-кредита-влияют-на-его-возврат-в-срок?-4.4\"><span class=\"toc-item-num\">4.4&nbsp;&nbsp;</span>Как разные цели кредита влияют на его возврат в срок?</a></span></li><li><span><a href=\"#Возможные-причины-появления-пропусков-в-исходных-данных.\" data-toc-modified-id=\"Возможные-причины-появления-пропусков-в-исходных-данных.-4.5\"><span class=\"toc-item-num\">4.5&nbsp;&nbsp;</span>Возможные причины появления пропусков в исходных данных.</a></span></li></ul></li><li><span><a href=\"#Общий-вывод\" data-toc-modified-id=\"Общий-вывод-5\"><span class=\"toc-item-num\">5&nbsp;&nbsp;</span>Общий вывод</a></span><ul class=\"toc-item\"><li><span><a href=\"#1.-Данные\" data-toc-modified-id=\"1.-Данные-5.1\"><span class=\"toc-item-num\">5.1&nbsp;&nbsp;</span>1. Данные</a></span></li><li><span><a href=\"#Исследование\" data-toc-modified-id=\"Исследование-5.2\"><span class=\"toc-item-num\">5.2&nbsp;&nbsp;</span>Исследование</a></span></li><li><span><a href=\"#Рекомендации\" data-toc-modified-id=\"Рекомендации-5.3\"><span class=\"toc-item-num\">5.3&nbsp;&nbsp;</span>Рекомендации</a></span></li></ul></li></ul></div>"
   ]
  },
  {
   "cell_type": "markdown",
   "id": "8b044113",
   "metadata": {},
   "source": [
    "# Исследование надежности заёмщиков\n",
    "## Описание проекта\n",
    "\n",
    "Заказчик — кредитный отдел банка. Нужно разобраться, влияет ли семейное положение и количество детей клиента на факт погашения кредита в срок. Входные данные от банка — статистика о платёжеспособности клиентов.\n",
    "Результаты исследования будут учтены при построении модели кредитного скоринга — специальной системы, которая оценивает способность потенциального заёмщика вернуть кредит банку.\n",
    "\n",
    "**Цель исследования - проверить следующие гипотезы:**\n",
    "- Есть ли зависимость между количеством детей и возвратом кредита в срок?\n",
    "- Есть ли зависимость между семейным положением и возвратом кредита в срок?\n",
    "- Есть ли зависимость между уровнем дохода и возвратом кредита в срок?\n",
    "- Как разные цели кредита влияют на его возврат в срок?"
   ]
  },
  {
   "cell_type": "markdown",
   "id": "46580492",
   "metadata": {},
   "source": [
    "## Описание данных\n",
    "\n",
    "children — количество детей в семье  \n",
    "days_employed — общий трудовой стаж в днях  \n",
    "dob_years — возраст клиента в годах  \n",
    "education — уровень образования клиента  \n",
    "education_id — идентификатор уровня образования  \n",
    "family_status — семейное положение  \n",
    "family_status_id — идентификатор семейного положения  \n",
    "gender — пол клиента  \n",
    "income_type — тип занятости  \n",
    "debt — имел ли задолженность по возврату кредитов  \n",
    "total_income — ежемесячный доход  \n",
    "purpose — цель получения кредита"
   ]
  },
  {
   "cell_type": "markdown",
   "id": "ebc73ddc",
   "metadata": {},
   "source": [
    "## Предобработка данных"
   ]
  },
  {
   "cell_type": "code",
   "execution_count": 1,
   "id": "cb98b7c5",
   "metadata": {},
   "outputs": [],
   "source": [
    "import pandas as pd\n",
    "import os"
   ]
  },
  {
   "cell_type": "code",
   "execution_count": 3,
   "id": "b5e8be08",
   "metadata": {
    "scrolled": false
   },
   "outputs": [
    {
     "name": "stdout",
     "output_type": "stream",
     "text": [
      "<class 'pandas.core.frame.DataFrame'>\n",
      "RangeIndex: 21525 entries, 0 to 21524\n",
      "Data columns (total 12 columns):\n",
      " #   Column            Non-Null Count  Dtype  \n",
      "---  ------            --------------  -----  \n",
      " 0   children          21525 non-null  int64  \n",
      " 1   days_employed     19351 non-null  float64\n",
      " 2   dob_years         21525 non-null  int64  \n",
      " 3   education         21525 non-null  object \n",
      " 4   education_id      21525 non-null  int64  \n",
      " 5   family_status     21525 non-null  object \n",
      " 6   family_status_id  21525 non-null  int64  \n",
      " 7   gender            21525 non-null  object \n",
      " 8   income_type       21525 non-null  object \n",
      " 9   debt              21525 non-null  int64  \n",
      " 10  total_income      19351 non-null  float64\n",
      " 11  purpose           21525 non-null  object \n",
      "dtypes: float64(2), int64(5), object(5)\n",
      "memory usage: 2.0+ MB\n"
     ]
    }
   ],
   "source": [
    "if os.path.exists('/datasets/data.csv'):\n",
    "    data = pd.read_csv('/datasets/data.csv')\n",
    "else:\n",
    "    data = pd.read_csv(\"C:/Users/Mixa/Documents/Анализ данных/datasets/data_4_sprint.csv\")\n",
    "data.info()"
   ]
  },
  {
   "cell_type": "code",
   "execution_count": 4,
   "id": "c803d3e1",
   "metadata": {},
   "outputs": [
    {
     "data": {
      "text/html": [
       "<div>\n",
       "<style scoped>\n",
       "    .dataframe tbody tr th:only-of-type {\n",
       "        vertical-align: middle;\n",
       "    }\n",
       "\n",
       "    .dataframe tbody tr th {\n",
       "        vertical-align: top;\n",
       "    }\n",
       "\n",
       "    .dataframe thead th {\n",
       "        text-align: right;\n",
       "    }\n",
       "</style>\n",
       "<table border=\"1\" class=\"dataframe\">\n",
       "  <thead>\n",
       "    <tr style=\"text-align: right;\">\n",
       "      <th></th>\n",
       "      <th>children</th>\n",
       "      <th>days_employed</th>\n",
       "      <th>dob_years</th>\n",
       "      <th>education</th>\n",
       "      <th>education_id</th>\n",
       "      <th>family_status</th>\n",
       "      <th>family_status_id</th>\n",
       "      <th>gender</th>\n",
       "      <th>income_type</th>\n",
       "      <th>debt</th>\n",
       "      <th>total_income</th>\n",
       "      <th>purpose</th>\n",
       "    </tr>\n",
       "  </thead>\n",
       "  <tbody>\n",
       "    <tr>\n",
       "      <th>0</th>\n",
       "      <td>1</td>\n",
       "      <td>-8437.673028</td>\n",
       "      <td>42</td>\n",
       "      <td>высшее</td>\n",
       "      <td>0</td>\n",
       "      <td>женат / замужем</td>\n",
       "      <td>0</td>\n",
       "      <td>F</td>\n",
       "      <td>сотрудник</td>\n",
       "      <td>0</td>\n",
       "      <td>253875.639453</td>\n",
       "      <td>покупка жилья</td>\n",
       "    </tr>\n",
       "    <tr>\n",
       "      <th>1</th>\n",
       "      <td>1</td>\n",
       "      <td>-4024.803754</td>\n",
       "      <td>36</td>\n",
       "      <td>среднее</td>\n",
       "      <td>1</td>\n",
       "      <td>женат / замужем</td>\n",
       "      <td>0</td>\n",
       "      <td>F</td>\n",
       "      <td>сотрудник</td>\n",
       "      <td>0</td>\n",
       "      <td>112080.014102</td>\n",
       "      <td>приобретение автомобиля</td>\n",
       "    </tr>\n",
       "    <tr>\n",
       "      <th>2</th>\n",
       "      <td>0</td>\n",
       "      <td>-5623.422610</td>\n",
       "      <td>33</td>\n",
       "      <td>Среднее</td>\n",
       "      <td>1</td>\n",
       "      <td>женат / замужем</td>\n",
       "      <td>0</td>\n",
       "      <td>M</td>\n",
       "      <td>сотрудник</td>\n",
       "      <td>0</td>\n",
       "      <td>145885.952297</td>\n",
       "      <td>покупка жилья</td>\n",
       "    </tr>\n",
       "    <tr>\n",
       "      <th>3</th>\n",
       "      <td>3</td>\n",
       "      <td>-4124.747207</td>\n",
       "      <td>32</td>\n",
       "      <td>среднее</td>\n",
       "      <td>1</td>\n",
       "      <td>женат / замужем</td>\n",
       "      <td>0</td>\n",
       "      <td>M</td>\n",
       "      <td>сотрудник</td>\n",
       "      <td>0</td>\n",
       "      <td>267628.550329</td>\n",
       "      <td>дополнительное образование</td>\n",
       "    </tr>\n",
       "    <tr>\n",
       "      <th>4</th>\n",
       "      <td>0</td>\n",
       "      <td>340266.072047</td>\n",
       "      <td>53</td>\n",
       "      <td>среднее</td>\n",
       "      <td>1</td>\n",
       "      <td>гражданский брак</td>\n",
       "      <td>1</td>\n",
       "      <td>F</td>\n",
       "      <td>пенсионер</td>\n",
       "      <td>0</td>\n",
       "      <td>158616.077870</td>\n",
       "      <td>сыграть свадьбу</td>\n",
       "    </tr>\n",
       "    <tr>\n",
       "      <th>5</th>\n",
       "      <td>0</td>\n",
       "      <td>-926.185831</td>\n",
       "      <td>27</td>\n",
       "      <td>высшее</td>\n",
       "      <td>0</td>\n",
       "      <td>гражданский брак</td>\n",
       "      <td>1</td>\n",
       "      <td>M</td>\n",
       "      <td>компаньон</td>\n",
       "      <td>0</td>\n",
       "      <td>255763.565419</td>\n",
       "      <td>покупка жилья</td>\n",
       "    </tr>\n",
       "    <tr>\n",
       "      <th>6</th>\n",
       "      <td>0</td>\n",
       "      <td>-2879.202052</td>\n",
       "      <td>43</td>\n",
       "      <td>высшее</td>\n",
       "      <td>0</td>\n",
       "      <td>женат / замужем</td>\n",
       "      <td>0</td>\n",
       "      <td>F</td>\n",
       "      <td>компаньон</td>\n",
       "      <td>0</td>\n",
       "      <td>240525.971920</td>\n",
       "      <td>операции с жильем</td>\n",
       "    </tr>\n",
       "    <tr>\n",
       "      <th>7</th>\n",
       "      <td>0</td>\n",
       "      <td>-152.779569</td>\n",
       "      <td>50</td>\n",
       "      <td>СРЕДНЕЕ</td>\n",
       "      <td>1</td>\n",
       "      <td>женат / замужем</td>\n",
       "      <td>0</td>\n",
       "      <td>M</td>\n",
       "      <td>сотрудник</td>\n",
       "      <td>0</td>\n",
       "      <td>135823.934197</td>\n",
       "      <td>образование</td>\n",
       "    </tr>\n",
       "    <tr>\n",
       "      <th>8</th>\n",
       "      <td>2</td>\n",
       "      <td>-6929.865299</td>\n",
       "      <td>35</td>\n",
       "      <td>ВЫСШЕЕ</td>\n",
       "      <td>0</td>\n",
       "      <td>гражданский брак</td>\n",
       "      <td>1</td>\n",
       "      <td>F</td>\n",
       "      <td>сотрудник</td>\n",
       "      <td>0</td>\n",
       "      <td>95856.832424</td>\n",
       "      <td>на проведение свадьбы</td>\n",
       "    </tr>\n",
       "    <tr>\n",
       "      <th>9</th>\n",
       "      <td>0</td>\n",
       "      <td>-2188.756445</td>\n",
       "      <td>41</td>\n",
       "      <td>среднее</td>\n",
       "      <td>1</td>\n",
       "      <td>женат / замужем</td>\n",
       "      <td>0</td>\n",
       "      <td>M</td>\n",
       "      <td>сотрудник</td>\n",
       "      <td>0</td>\n",
       "      <td>144425.938277</td>\n",
       "      <td>покупка жилья для семьи</td>\n",
       "    </tr>\n",
       "    <tr>\n",
       "      <th>10</th>\n",
       "      <td>2</td>\n",
       "      <td>-4171.483647</td>\n",
       "      <td>36</td>\n",
       "      <td>высшее</td>\n",
       "      <td>0</td>\n",
       "      <td>женат / замужем</td>\n",
       "      <td>0</td>\n",
       "      <td>M</td>\n",
       "      <td>компаньон</td>\n",
       "      <td>0</td>\n",
       "      <td>113943.491460</td>\n",
       "      <td>покупка недвижимости</td>\n",
       "    </tr>\n",
       "    <tr>\n",
       "      <th>11</th>\n",
       "      <td>0</td>\n",
       "      <td>-792.701887</td>\n",
       "      <td>40</td>\n",
       "      <td>среднее</td>\n",
       "      <td>1</td>\n",
       "      <td>женат / замужем</td>\n",
       "      <td>0</td>\n",
       "      <td>F</td>\n",
       "      <td>сотрудник</td>\n",
       "      <td>0</td>\n",
       "      <td>77069.234271</td>\n",
       "      <td>покупка коммерческой недвижимости</td>\n",
       "    </tr>\n",
       "    <tr>\n",
       "      <th>12</th>\n",
       "      <td>0</td>\n",
       "      <td>NaN</td>\n",
       "      <td>65</td>\n",
       "      <td>среднее</td>\n",
       "      <td>1</td>\n",
       "      <td>гражданский брак</td>\n",
       "      <td>1</td>\n",
       "      <td>M</td>\n",
       "      <td>пенсионер</td>\n",
       "      <td>0</td>\n",
       "      <td>NaN</td>\n",
       "      <td>сыграть свадьбу</td>\n",
       "    </tr>\n",
       "    <tr>\n",
       "      <th>13</th>\n",
       "      <td>0</td>\n",
       "      <td>-1846.641941</td>\n",
       "      <td>54</td>\n",
       "      <td>неоконченное высшее</td>\n",
       "      <td>2</td>\n",
       "      <td>женат / замужем</td>\n",
       "      <td>0</td>\n",
       "      <td>F</td>\n",
       "      <td>сотрудник</td>\n",
       "      <td>0</td>\n",
       "      <td>130458.228857</td>\n",
       "      <td>приобретение автомобиля</td>\n",
       "    </tr>\n",
       "    <tr>\n",
       "      <th>14</th>\n",
       "      <td>0</td>\n",
       "      <td>-1844.956182</td>\n",
       "      <td>56</td>\n",
       "      <td>высшее</td>\n",
       "      <td>0</td>\n",
       "      <td>гражданский брак</td>\n",
       "      <td>1</td>\n",
       "      <td>F</td>\n",
       "      <td>компаньон</td>\n",
       "      <td>1</td>\n",
       "      <td>165127.911772</td>\n",
       "      <td>покупка жилой недвижимости</td>\n",
       "    </tr>\n",
       "    <tr>\n",
       "      <th>15</th>\n",
       "      <td>1</td>\n",
       "      <td>-972.364419</td>\n",
       "      <td>26</td>\n",
       "      <td>среднее</td>\n",
       "      <td>1</td>\n",
       "      <td>женат / замужем</td>\n",
       "      <td>0</td>\n",
       "      <td>F</td>\n",
       "      <td>сотрудник</td>\n",
       "      <td>0</td>\n",
       "      <td>116820.904450</td>\n",
       "      <td>строительство собственной недвижимости</td>\n",
       "    </tr>\n",
       "    <tr>\n",
       "      <th>16</th>\n",
       "      <td>0</td>\n",
       "      <td>-1719.934226</td>\n",
       "      <td>35</td>\n",
       "      <td>среднее</td>\n",
       "      <td>1</td>\n",
       "      <td>женат / замужем</td>\n",
       "      <td>0</td>\n",
       "      <td>F</td>\n",
       "      <td>сотрудник</td>\n",
       "      <td>0</td>\n",
       "      <td>289202.704229</td>\n",
       "      <td>недвижимость</td>\n",
       "    </tr>\n",
       "    <tr>\n",
       "      <th>17</th>\n",
       "      <td>0</td>\n",
       "      <td>-2369.999720</td>\n",
       "      <td>33</td>\n",
       "      <td>высшее</td>\n",
       "      <td>0</td>\n",
       "      <td>гражданский брак</td>\n",
       "      <td>1</td>\n",
       "      <td>M</td>\n",
       "      <td>сотрудник</td>\n",
       "      <td>0</td>\n",
       "      <td>90410.586745</td>\n",
       "      <td>строительство недвижимости</td>\n",
       "    </tr>\n",
       "    <tr>\n",
       "      <th>18</th>\n",
       "      <td>0</td>\n",
       "      <td>400281.136913</td>\n",
       "      <td>53</td>\n",
       "      <td>среднее</td>\n",
       "      <td>1</td>\n",
       "      <td>вдовец / вдова</td>\n",
       "      <td>2</td>\n",
       "      <td>F</td>\n",
       "      <td>пенсионер</td>\n",
       "      <td>0</td>\n",
       "      <td>56823.777243</td>\n",
       "      <td>на покупку подержанного автомобиля</td>\n",
       "    </tr>\n",
       "    <tr>\n",
       "      <th>19</th>\n",
       "      <td>0</td>\n",
       "      <td>-10038.818549</td>\n",
       "      <td>48</td>\n",
       "      <td>СРЕДНЕЕ</td>\n",
       "      <td>1</td>\n",
       "      <td>в разводе</td>\n",
       "      <td>3</td>\n",
       "      <td>F</td>\n",
       "      <td>сотрудник</td>\n",
       "      <td>0</td>\n",
       "      <td>242831.107982</td>\n",
       "      <td>на покупку своего автомобиля</td>\n",
       "    </tr>\n",
       "  </tbody>\n",
       "</table>\n",
       "</div>"
      ],
      "text/plain": [
       "    children  days_employed  dob_years            education  education_id  \\\n",
       "0          1   -8437.673028         42               высшее             0   \n",
       "1          1   -4024.803754         36              среднее             1   \n",
       "2          0   -5623.422610         33              Среднее             1   \n",
       "3          3   -4124.747207         32              среднее             1   \n",
       "4          0  340266.072047         53              среднее             1   \n",
       "5          0    -926.185831         27               высшее             0   \n",
       "6          0   -2879.202052         43               высшее             0   \n",
       "7          0    -152.779569         50              СРЕДНЕЕ             1   \n",
       "8          2   -6929.865299         35               ВЫСШЕЕ             0   \n",
       "9          0   -2188.756445         41              среднее             1   \n",
       "10         2   -4171.483647         36               высшее             0   \n",
       "11         0    -792.701887         40              среднее             1   \n",
       "12         0            NaN         65              среднее             1   \n",
       "13         0   -1846.641941         54  неоконченное высшее             2   \n",
       "14         0   -1844.956182         56               высшее             0   \n",
       "15         1    -972.364419         26              среднее             1   \n",
       "16         0   -1719.934226         35              среднее             1   \n",
       "17         0   -2369.999720         33               высшее             0   \n",
       "18         0  400281.136913         53              среднее             1   \n",
       "19         0  -10038.818549         48              СРЕДНЕЕ             1   \n",
       "\n",
       "       family_status  family_status_id gender income_type  debt  \\\n",
       "0    женат / замужем                 0      F   сотрудник     0   \n",
       "1    женат / замужем                 0      F   сотрудник     0   \n",
       "2    женат / замужем                 0      M   сотрудник     0   \n",
       "3    женат / замужем                 0      M   сотрудник     0   \n",
       "4   гражданский брак                 1      F   пенсионер     0   \n",
       "5   гражданский брак                 1      M   компаньон     0   \n",
       "6    женат / замужем                 0      F   компаньон     0   \n",
       "7    женат / замужем                 0      M   сотрудник     0   \n",
       "8   гражданский брак                 1      F   сотрудник     0   \n",
       "9    женат / замужем                 0      M   сотрудник     0   \n",
       "10   женат / замужем                 0      M   компаньон     0   \n",
       "11   женат / замужем                 0      F   сотрудник     0   \n",
       "12  гражданский брак                 1      M   пенсионер     0   \n",
       "13   женат / замужем                 0      F   сотрудник     0   \n",
       "14  гражданский брак                 1      F   компаньон     1   \n",
       "15   женат / замужем                 0      F   сотрудник     0   \n",
       "16   женат / замужем                 0      F   сотрудник     0   \n",
       "17  гражданский брак                 1      M   сотрудник     0   \n",
       "18    вдовец / вдова                 2      F   пенсионер     0   \n",
       "19         в разводе                 3      F   сотрудник     0   \n",
       "\n",
       "     total_income                                 purpose  \n",
       "0   253875.639453                           покупка жилья  \n",
       "1   112080.014102                 приобретение автомобиля  \n",
       "2   145885.952297                           покупка жилья  \n",
       "3   267628.550329              дополнительное образование  \n",
       "4   158616.077870                         сыграть свадьбу  \n",
       "5   255763.565419                           покупка жилья  \n",
       "6   240525.971920                       операции с жильем  \n",
       "7   135823.934197                             образование  \n",
       "8    95856.832424                   на проведение свадьбы  \n",
       "9   144425.938277                 покупка жилья для семьи  \n",
       "10  113943.491460                    покупка недвижимости  \n",
       "11   77069.234271       покупка коммерческой недвижимости  \n",
       "12            NaN                         сыграть свадьбу  \n",
       "13  130458.228857                 приобретение автомобиля  \n",
       "14  165127.911772              покупка жилой недвижимости  \n",
       "15  116820.904450  строительство собственной недвижимости  \n",
       "16  289202.704229                            недвижимость  \n",
       "17   90410.586745              строительство недвижимости  \n",
       "18   56823.777243      на покупку подержанного автомобиля  \n",
       "19  242831.107982            на покупку своего автомобиля  "
      ]
     },
     "execution_count": 4,
     "metadata": {},
     "output_type": "execute_result"
    }
   ],
   "source": [
    "data.head(20)"
   ]
  },
  {
   "cell_type": "code",
   "execution_count": 5,
   "id": "481dd08d",
   "metadata": {
    "scrolled": true
   },
   "outputs": [
    {
     "data": {
      "text/plain": [
       "children               0\n",
       "days_employed       2174\n",
       "dob_years              0\n",
       "education              0\n",
       "education_id           0\n",
       "family_status          0\n",
       "family_status_id       0\n",
       "gender                 0\n",
       "income_type            0\n",
       "debt                   0\n",
       "total_income        2174\n",
       "purpose                0\n",
       "dtype: int64"
      ]
     },
     "execution_count": 5,
     "metadata": {},
     "output_type": "execute_result"
    }
   ],
   "source": [
    "data.isna().sum()"
   ]
  },
  {
   "cell_type": "markdown",
   "id": "5bc3f967",
   "metadata": {},
   "source": [
    "Посмотрим, какова доля пропущенных значений, чтобы было понятно, что можно отбросить, а с чем будем работать."
   ]
  },
  {
   "cell_type": "code",
   "execution_count": 6,
   "id": "90f3acaf",
   "metadata": {},
   "outputs": [
    {
     "data": {
      "text/html": [
       "<style type=\"text/css\">\n",
       "#T_9de2b_row0_col0, #T_9de2b_row2_col0, #T_9de2b_row3_col0, #T_9de2b_row4_col0, #T_9de2b_row5_col0, #T_9de2b_row6_col0, #T_9de2b_row7_col0, #T_9de2b_row8_col0, #T_9de2b_row9_col0, #T_9de2b_row11_col0 {\n",
       "  background-color: #3b4cc0;\n",
       "  color: #f1f1f1;\n",
       "}\n",
       "#T_9de2b_row1_col0, #T_9de2b_row10_col0 {\n",
       "  background-color: #b40426;\n",
       "  color: #f1f1f1;\n",
       "}\n",
       "</style>\n",
       "<table id=\"T_9de2b\">\n",
       "  <thead>\n",
       "    <tr>\n",
       "      <th class=\"blank level0\" >&nbsp;</th>\n",
       "      <th id=\"T_9de2b_level0_col0\" class=\"col_heading level0 col0\" >0</th>\n",
       "    </tr>\n",
       "  </thead>\n",
       "  <tbody>\n",
       "    <tr>\n",
       "      <th id=\"T_9de2b_level0_row0\" class=\"row_heading level0 row0\" >children</th>\n",
       "      <td id=\"T_9de2b_row0_col0\" class=\"data row0 col0\" >0.00</td>\n",
       "    </tr>\n",
       "    <tr>\n",
       "      <th id=\"T_9de2b_level0_row1\" class=\"row_heading level0 row1\" >days_employed</th>\n",
       "      <td id=\"T_9de2b_row1_col0\" class=\"data row1 col0\" >10.10</td>\n",
       "    </tr>\n",
       "    <tr>\n",
       "      <th id=\"T_9de2b_level0_row2\" class=\"row_heading level0 row2\" >dob_years</th>\n",
       "      <td id=\"T_9de2b_row2_col0\" class=\"data row2 col0\" >0.00</td>\n",
       "    </tr>\n",
       "    <tr>\n",
       "      <th id=\"T_9de2b_level0_row3\" class=\"row_heading level0 row3\" >education</th>\n",
       "      <td id=\"T_9de2b_row3_col0\" class=\"data row3 col0\" >0.00</td>\n",
       "    </tr>\n",
       "    <tr>\n",
       "      <th id=\"T_9de2b_level0_row4\" class=\"row_heading level0 row4\" >education_id</th>\n",
       "      <td id=\"T_9de2b_row4_col0\" class=\"data row4 col0\" >0.00</td>\n",
       "    </tr>\n",
       "    <tr>\n",
       "      <th id=\"T_9de2b_level0_row5\" class=\"row_heading level0 row5\" >family_status</th>\n",
       "      <td id=\"T_9de2b_row5_col0\" class=\"data row5 col0\" >0.00</td>\n",
       "    </tr>\n",
       "    <tr>\n",
       "      <th id=\"T_9de2b_level0_row6\" class=\"row_heading level0 row6\" >family_status_id</th>\n",
       "      <td id=\"T_9de2b_row6_col0\" class=\"data row6 col0\" >0.00</td>\n",
       "    </tr>\n",
       "    <tr>\n",
       "      <th id=\"T_9de2b_level0_row7\" class=\"row_heading level0 row7\" >gender</th>\n",
       "      <td id=\"T_9de2b_row7_col0\" class=\"data row7 col0\" >0.00</td>\n",
       "    </tr>\n",
       "    <tr>\n",
       "      <th id=\"T_9de2b_level0_row8\" class=\"row_heading level0 row8\" >income_type</th>\n",
       "      <td id=\"T_9de2b_row8_col0\" class=\"data row8 col0\" >0.00</td>\n",
       "    </tr>\n",
       "    <tr>\n",
       "      <th id=\"T_9de2b_level0_row9\" class=\"row_heading level0 row9\" >debt</th>\n",
       "      <td id=\"T_9de2b_row9_col0\" class=\"data row9 col0\" >0.00</td>\n",
       "    </tr>\n",
       "    <tr>\n",
       "      <th id=\"T_9de2b_level0_row10\" class=\"row_heading level0 row10\" >total_income</th>\n",
       "      <td id=\"T_9de2b_row10_col0\" class=\"data row10 col0\" >10.10</td>\n",
       "    </tr>\n",
       "    <tr>\n",
       "      <th id=\"T_9de2b_level0_row11\" class=\"row_heading level0 row11\" >purpose</th>\n",
       "      <td id=\"T_9de2b_row11_col0\" class=\"data row11 col0\" >0.00</td>\n",
       "    </tr>\n",
       "  </tbody>\n",
       "</table>\n"
      ],
      "text/plain": [
       "<pandas.io.formats.style.Styler at 0x26640ef5070>"
      ]
     },
     "execution_count": 6,
     "metadata": {},
     "output_type": "execute_result"
    }
   ],
   "source": [
    "pd.DataFrame(data.isna().mean()*100).style.format(precision=2).background_gradient('coolwarm')"
   ]
  },
  {
   "cell_type": "markdown",
   "id": "90126930",
   "metadata": {},
   "source": [
    "Есть пропуски данных, причем одинаковое количество в столбцах days_employed и total_income\n",
    "Cтолбец с пропущенными значениями — total_income — хранит данные о доходах. На сумму дохода сильнее всего влияет тип занятости, поэтому заполнить пропуски в этом столбце нужно медианным значением по каждому типу из столбца income_type. Например, у человека с типом занятости сотрудник пропуск в столбце total_income должен быть заполнен медианным доходом среди всех записей с тем же типом. Используем функцию transform(), которая для groupby() сохраняет формат исходного набора данных и позволяет заполнить пропущенные значения столбца медианами по типам занятости."
   ]
  },
  {
   "cell_type": "code",
   "execution_count": 7,
   "id": "386212ef",
   "metadata": {
    "scrolled": true
   },
   "outputs": [],
   "source": [
    "data['total_income'] = data['total_income'].fillna(data.groupby('income_type')['total_income'].transform('median'))"
   ]
  },
  {
   "cell_type": "markdown",
   "id": "8efc3057",
   "metadata": {},
   "source": [
    "Заменяем отрицательные значения столбца days_employed при помощи функции abs()\n",
    "Для каждого типа занятости выведем медианное значение трудового стажа days_employed в днях."
   ]
  },
  {
   "cell_type": "code",
   "execution_count": 8,
   "id": "91bbddbd",
   "metadata": {
    "scrolled": true
   },
   "outputs": [
    {
     "data": {
      "text/plain": [
       "income_type\n",
       "безработный        366413.652744\n",
       "в декрете            3296.759962\n",
       "госслужащий          2689.368353\n",
       "компаньон            1547.382223\n",
       "пенсионер          365213.306266\n",
       "предприниматель       520.848083\n",
       "сотрудник            1574.202821\n",
       "студент               578.751554\n",
       "Name: days_employed, dtype: float64"
      ]
     },
     "execution_count": 8,
     "metadata": {},
     "output_type": "execute_result"
    }
   ],
   "source": [
    "data['days_employed'] = abs(data['days_employed'])\n",
    "data.groupby('income_type')['days_employed'].median()"
   ]
  },
  {
   "cell_type": "markdown",
   "id": "7b2bcf11",
   "metadata": {},
   "source": [
    "У двух типов (безработные и пенсионеры) получаются аномально большие значения. Исправить такие значения сложно, поэтому оставим их как есть. Тем более этот столбец не понадобится для исследования.\n",
    "\n",
    "Выведем перечень уникальных значений столбца children"
   ]
  },
  {
   "cell_type": "code",
   "execution_count": 9,
   "id": "8dc8b305",
   "metadata": {},
   "outputs": [
    {
     "data": {
      "text/plain": [
       "array([ 1,  0,  3,  2, -1,  4, 20,  5], dtype=int64)"
      ]
     },
     "execution_count": 9,
     "metadata": {},
     "output_type": "execute_result"
    }
   ],
   "source": [
    "data['children'].unique()"
   ]
  },
  {
   "cell_type": "markdown",
   "id": "229a3e74",
   "metadata": {},
   "source": [
    "В столбце children есть два аномальных значения. Посмотрим, какова их доля в датасете. Мы можем удалить не больше 5-10% датафрейма. Если доля удаляемых данных больше, надо обрабатывать их по-иному"
   ]
  },
  {
   "cell_type": "code",
   "execution_count": 10,
   "id": "86b6530a",
   "metadata": {},
   "outputs": [
    {
     "data": {
      "text/html": [
       "<style type=\"text/css\">\n",
       "</style>\n",
       "<table id=\"T_6360d\">\n",
       "  <thead>\n",
       "    <tr>\n",
       "      <th class=\"blank level0\" >&nbsp;</th>\n",
       "      <th id=\"T_6360d_level0_col0\" class=\"col_heading level0 col0\" >кол-во в выборке</th>\n",
       "      <th id=\"T_6360d_level0_col1\" class=\"col_heading level0 col1\" >процент в выборке</th>\n",
       "    </tr>\n",
       "    <tr>\n",
       "      <th class=\"index_name level0\" >children</th>\n",
       "      <th class=\"blank col0\" >&nbsp;</th>\n",
       "      <th class=\"blank col1\" >&nbsp;</th>\n",
       "    </tr>\n",
       "  </thead>\n",
       "  <tbody>\n",
       "    <tr>\n",
       "      <th id=\"T_6360d_level0_row0\" class=\"row_heading level0 row0\" >-1</th>\n",
       "      <td id=\"T_6360d_row0_col0\" class=\"data row0 col0\" >47</td>\n",
       "      <td id=\"T_6360d_row0_col1\" class=\"data row0 col1\" >0.22%</td>\n",
       "    </tr>\n",
       "    <tr>\n",
       "      <th id=\"T_6360d_level0_row1\" class=\"row_heading level0 row1\" >0</th>\n",
       "      <td id=\"T_6360d_row1_col0\" class=\"data row1 col0\" >14149</td>\n",
       "      <td id=\"T_6360d_row1_col1\" class=\"data row1 col1\" >65.73%</td>\n",
       "    </tr>\n",
       "    <tr>\n",
       "      <th id=\"T_6360d_level0_row2\" class=\"row_heading level0 row2\" >1</th>\n",
       "      <td id=\"T_6360d_row2_col0\" class=\"data row2 col0\" >4818</td>\n",
       "      <td id=\"T_6360d_row2_col1\" class=\"data row2 col1\" >22.38%</td>\n",
       "    </tr>\n",
       "    <tr>\n",
       "      <th id=\"T_6360d_level0_row3\" class=\"row_heading level0 row3\" >2</th>\n",
       "      <td id=\"T_6360d_row3_col0\" class=\"data row3 col0\" >2055</td>\n",
       "      <td id=\"T_6360d_row3_col1\" class=\"data row3 col1\" >9.55%</td>\n",
       "    </tr>\n",
       "    <tr>\n",
       "      <th id=\"T_6360d_level0_row4\" class=\"row_heading level0 row4\" >3</th>\n",
       "      <td id=\"T_6360d_row4_col0\" class=\"data row4 col0\" >330</td>\n",
       "      <td id=\"T_6360d_row4_col1\" class=\"data row4 col1\" >1.53%</td>\n",
       "    </tr>\n",
       "    <tr>\n",
       "      <th id=\"T_6360d_level0_row5\" class=\"row_heading level0 row5\" >4</th>\n",
       "      <td id=\"T_6360d_row5_col0\" class=\"data row5 col0\" >41</td>\n",
       "      <td id=\"T_6360d_row5_col1\" class=\"data row5 col1\" >0.19%</td>\n",
       "    </tr>\n",
       "    <tr>\n",
       "      <th id=\"T_6360d_level0_row6\" class=\"row_heading level0 row6\" >5</th>\n",
       "      <td id=\"T_6360d_row6_col0\" class=\"data row6 col0\" >9</td>\n",
       "      <td id=\"T_6360d_row6_col1\" class=\"data row6 col1\" >0.04%</td>\n",
       "    </tr>\n",
       "    <tr>\n",
       "      <th id=\"T_6360d_level0_row7\" class=\"row_heading level0 row7\" >20</th>\n",
       "      <td id=\"T_6360d_row7_col0\" class=\"data row7 col0\" >76</td>\n",
       "      <td id=\"T_6360d_row7_col1\" class=\"data row7 col1\" >0.35%</td>\n",
       "    </tr>\n",
       "  </tbody>\n",
       "</table>\n"
      ],
      "text/plain": [
       "<pandas.io.formats.style.Styler at 0x26640ef50a0>"
      ]
     },
     "execution_count": 10,
     "metadata": {},
     "output_type": "execute_result"
    }
   ],
   "source": [
    "t = data.groupby('children').agg({'dob_years':['count']})\n",
    "t.columns = ['кол-во в выборке']\n",
    "t['процент в выборке'] = t['кол-во в выборке'] / 21525\n",
    "t.style.format({'процент в выборке': '{:,.2%}'.format})"
   ]
  },
  {
   "cell_type": "markdown",
   "id": "bb7c0739",
   "metadata": {},
   "source": [
    "Процент аномальных значений небольшой, поэтому удалим строки, в которых встречаются такие значения из датафрейма data."
   ]
  },
  {
   "cell_type": "code",
   "execution_count": 11,
   "id": "4aac1538",
   "metadata": {
    "scrolled": true
   },
   "outputs": [
    {
     "data": {
      "text/plain": [
       "array([1, 0, 3, 2, 4, 5], dtype=int64)"
      ]
     },
     "execution_count": 11,
     "metadata": {},
     "output_type": "execute_result"
    }
   ],
   "source": [
    "data = data.loc[(data['children'] != 20) & (data['children'] != -1)]\n",
    "data['children'].unique()"
   ]
  },
  {
   "cell_type": "code",
   "execution_count": 12,
   "id": "4125dc3f",
   "metadata": {},
   "outputs": [
    {
     "data": {
      "text/plain": [
       "array(['F', 'M', 'XNA'], dtype=object)"
      ]
     },
     "execution_count": 12,
     "metadata": {},
     "output_type": "execute_result"
    }
   ],
   "source": [
    "data['gender'].unique()"
   ]
  },
  {
   "cell_type": "code",
   "execution_count": 13,
   "id": "c428864e",
   "metadata": {},
   "outputs": [
    {
     "data": {
      "text/html": [
       "<style type=\"text/css\">\n",
       "</style>\n",
       "<table id=\"T_14d01\">\n",
       "  <thead>\n",
       "    <tr>\n",
       "      <th class=\"blank level0\" >&nbsp;</th>\n",
       "      <th id=\"T_14d01_level0_col0\" class=\"col_heading level0 col0\" >кол-во в выборке</th>\n",
       "      <th id=\"T_14d01_level0_col1\" class=\"col_heading level0 col1\" >процент в выборке</th>\n",
       "    </tr>\n",
       "    <tr>\n",
       "      <th class=\"index_name level0\" >gender</th>\n",
       "      <th class=\"blank col0\" >&nbsp;</th>\n",
       "      <th class=\"blank col1\" >&nbsp;</th>\n",
       "    </tr>\n",
       "  </thead>\n",
       "  <tbody>\n",
       "    <tr>\n",
       "      <th id=\"T_14d01_level0_row0\" class=\"row_heading level0 row0\" >F</th>\n",
       "      <td id=\"T_14d01_row0_col0\" class=\"data row0 col0\" >14154</td>\n",
       "      <td id=\"T_14d01_row0_col1\" class=\"data row0 col1\" >65.76%</td>\n",
       "    </tr>\n",
       "    <tr>\n",
       "      <th id=\"T_14d01_level0_row1\" class=\"row_heading level0 row1\" >M</th>\n",
       "      <td id=\"T_14d01_row1_col0\" class=\"data row1 col0\" >7247</td>\n",
       "      <td id=\"T_14d01_row1_col1\" class=\"data row1 col1\" >33.67%</td>\n",
       "    </tr>\n",
       "    <tr>\n",
       "      <th id=\"T_14d01_level0_row2\" class=\"row_heading level0 row2\" >XNA</th>\n",
       "      <td id=\"T_14d01_row2_col0\" class=\"data row2 col0\" >1</td>\n",
       "      <td id=\"T_14d01_row2_col1\" class=\"data row2 col1\" >0.00%</td>\n",
       "    </tr>\n",
       "  </tbody>\n",
       "</table>\n"
      ],
      "text/plain": [
       "<pandas.io.formats.style.Styler at 0x26640ef52e0>"
      ]
     },
     "execution_count": 13,
     "metadata": {},
     "output_type": "execute_result"
    }
   ],
   "source": [
    "t = data.groupby('gender').agg({'dob_years':['count']})\n",
    "t.columns = ['кол-во в выборке']\n",
    "t['процент в выборке'] = t['кол-во в выборке'] / 21525\n",
    "t.style.format({'процент в выборке': '{:,.2%}'.format})"
   ]
  },
  {
   "cell_type": "markdown",
   "id": "e6fe7072",
   "metadata": {},
   "source": [
    "В данных пола имеется единичное странное значение. Оно ни на что не влияет, но оно есть!"
   ]
  },
  {
   "cell_type": "markdown",
   "id": "41debfa5",
   "metadata": {},
   "source": [
    "Заполним пропуски в столбце days_employed медианными значениями по каждому типу занятости income_type."
   ]
  },
  {
   "cell_type": "code",
   "execution_count": 14,
   "id": "ef27a359",
   "metadata": {},
   "outputs": [],
   "source": [
    "data['days_employed'] = data['days_employed'].fillna(data.groupby('income_type')['days_employed'].transform('median'))"
   ]
  },
  {
   "cell_type": "markdown",
   "id": "063cf384",
   "metadata": {},
   "source": [
    "Проверим себя, выведем количество пропущенных значений для каждого столбца"
   ]
  },
  {
   "cell_type": "code",
   "execution_count": 15,
   "id": "94cadeaa",
   "metadata": {
    "scrolled": true
   },
   "outputs": [
    {
     "data": {
      "text/plain": [
       "children            0\n",
       "days_employed       0\n",
       "dob_years           0\n",
       "education           0\n",
       "education_id        0\n",
       "family_status       0\n",
       "family_status_id    0\n",
       "gender              0\n",
       "income_type         0\n",
       "debt                0\n",
       "total_income        0\n",
       "purpose             0\n",
       "dtype: int64"
      ]
     },
     "execution_count": 15,
     "metadata": {},
     "output_type": "execute_result"
    }
   ],
   "source": [
    "data.isna().sum()"
   ]
  },
  {
   "cell_type": "markdown",
   "id": "6395ddbc",
   "metadata": {},
   "source": [
    "Заменим вещественный тип данных в столбце `total_income` на целочисленный"
   ]
  },
  {
   "cell_type": "code",
   "execution_count": 16,
   "id": "33fda2df",
   "metadata": {},
   "outputs": [],
   "source": [
    "data['total_income'] = data['total_income'].astype(int)"
   ]
  },
  {
   "cell_type": "markdown",
   "id": "d7d37be9",
   "metadata": {},
   "source": [
    "Обработаем неявные дубликаты в столбце education. В этом столбце есть одни и те же значения, но записанные по-разному: с использованием заглавных и строчных букв. Приведем их к нижнему регистру."
   ]
  },
  {
   "cell_type": "code",
   "execution_count": 17,
   "id": "d44cbf54",
   "metadata": {},
   "outputs": [],
   "source": [
    "data['education'] = data['education'].str.lower()"
   ]
  },
  {
   "cell_type": "markdown",
   "id": "a65d1d07",
   "metadata": {},
   "source": [
    "Выведем на экран количество строк-дубликатов в данных. "
   ]
  },
  {
   "cell_type": "code",
   "execution_count": 18,
   "id": "78c78542",
   "metadata": {},
   "outputs": [
    {
     "data": {
      "text/plain": [
       "71"
      ]
     },
     "execution_count": 18,
     "metadata": {},
     "output_type": "execute_result"
    }
   ],
   "source": [
    "data.duplicated().sum()"
   ]
  },
  {
   "cell_type": "markdown",
   "id": "539f12ae",
   "metadata": {},
   "source": [
    "... и удалим их"
   ]
  },
  {
   "cell_type": "code",
   "execution_count": 19,
   "id": "9ce1f2a3",
   "metadata": {},
   "outputs": [],
   "source": [
    "data = data.drop_duplicates()"
   ]
  },
  {
   "cell_type": "markdown",
   "id": "4aef96de",
   "metadata": {},
   "source": [
    "На основании диапазонов, указанных ниже, создадим в датафрейме data столбец total_income_category с категориями:\n",
    "\n",
    "0–30000 — 'E';\n",
    "30001–50000 — 'D';\n",
    "50001–200000 — 'C';\n",
    "200001–1000000 — 'B';\n",
    "1000001 и выше — 'A'.\n",
    "\n",
    "Например, кредитополучателю с доходом 25000 нужно назначить категорию 'E', а клиенту, получающему 235000, — 'B'. Используем собственную функцию с именем categorize_income() и метод apply()."
   ]
  },
  {
   "cell_type": "code",
   "execution_count": 20,
   "id": "1acd27b9",
   "metadata": {},
   "outputs": [],
   "source": [
    "def categorize_income(income):\n",
    "    if income <= 30000:\n",
    "        return 'E'\n",
    "    elif income <= 50000:\n",
    "        return 'D'\n",
    "    elif income <= 200000:\n",
    "        return 'C'\n",
    "    elif income <= 1000000:\n",
    "        return 'B'\n",
    "    else:\n",
    "        return 'A'\n",
    "\n",
    "data['total_income_category'] = data['total_income'].apply(categorize_income)"
   ]
  },
  {
   "cell_type": "markdown",
   "id": "30080819",
   "metadata": {},
   "source": [
    "Выведем на экран перечень уникальных целей взятия кредита из столбца purpose"
   ]
  },
  {
   "cell_type": "code",
   "execution_count": 21,
   "id": "e475df73",
   "metadata": {},
   "outputs": [
    {
     "data": {
      "text/plain": [
       "array(['покупка жилья', 'приобретение автомобиля',\n",
       "       'дополнительное образование', 'сыграть свадьбу',\n",
       "       'операции с жильем', 'образование', 'на проведение свадьбы',\n",
       "       'покупка жилья для семьи', 'покупка недвижимости',\n",
       "       'покупка коммерческой недвижимости', 'покупка жилой недвижимости',\n",
       "       'строительство собственной недвижимости', 'недвижимость',\n",
       "       'строительство недвижимости', 'на покупку подержанного автомобиля',\n",
       "       'на покупку своего автомобиля',\n",
       "       'операции с коммерческой недвижимостью',\n",
       "       'строительство жилой недвижимости', 'жилье',\n",
       "       'операции со своей недвижимостью', 'автомобили',\n",
       "       'заняться образованием', 'сделка с подержанным автомобилем',\n",
       "       'получение образования', 'автомобиль', 'свадьба',\n",
       "       'получение дополнительного образования', 'покупка своего жилья',\n",
       "       'операции с недвижимостью', 'получение высшего образования',\n",
       "       'свой автомобиль', 'сделка с автомобилем',\n",
       "       'профильное образование', 'высшее образование',\n",
       "       'покупка жилья для сдачи', 'на покупку автомобиля', 'ремонт жилью',\n",
       "       'заняться высшим образованием'], dtype=object)"
      ]
     },
     "execution_count": 21,
     "metadata": {},
     "output_type": "execute_result"
    }
   ],
   "source": [
    "data['purpose'].unique()"
   ]
  },
  {
   "cell_type": "markdown",
   "id": "4e2d5c04",
   "metadata": {},
   "source": [
    "Создадим функцию, которая на основании данных из столбца purpose сформирует новый столбец purpose_category, в который войдут следующие категории:\n",
    "\n",
    "'операции с автомобилем',\n",
    "'операции с недвижимостью',\n",
    "'проведение свадьбы',\n",
    "'получение образования'.\n",
    "Например, если в столбце purpose находится подстрока 'на покупку автомобиля', то в столбце purpose_category должна появиться строка 'операции с автомобилем'.\n",
    "\n",
    "Используем собственную функцию с именем categorize_purpose() и метод apply(). "
   ]
  },
  {
   "cell_type": "code",
   "execution_count": 22,
   "id": "1daccc19",
   "metadata": {},
   "outputs": [],
   "source": [
    "def categorize_purpose(purp):\n",
    "    if 'автомобил' in purp:\n",
    "        return 'операции с автомобилем'\n",
    "    elif ('жиль' in purp) or ('недвижимост' in purp):\n",
    "        return 'операции с недвижимостью'\n",
    "    elif 'свадьб' in purp:\n",
    "        return 'проведение свадьбы'\n",
    "    elif 'образовани' in purp:\n",
    "        return 'получение образования'"
   ]
  },
  {
   "cell_type": "code",
   "execution_count": 23,
   "id": "4fad2e30",
   "metadata": {},
   "outputs": [],
   "source": [
    "data['purpose_category'] = data['purpose'].apply(categorize_purpose)"
   ]
  },
  {
   "cell_type": "markdown",
   "id": "fda061af",
   "metadata": {},
   "source": [
    "Несмотря на пропуски в данных, мы удалили всего 71 строку явных дубликатов. Это не повлияет на исследование, но возможно, в будущем следует запрашивать идентификатор клиента, чтобы убедиться в том, что это именно дубликаты, наверняка."
   ]
  },
  {
   "cell_type": "markdown",
   "id": "7cd3a2d4",
   "metadata": {},
   "source": [
    "## Анализ данных"
   ]
  },
  {
   "cell_type": "markdown",
   "id": "226bebe4",
   "metadata": {},
   "source": [
    "### Есть ли зависимость между количеством детей и возвратом кредита в срок?"
   ]
  },
  {
   "cell_type": "code",
   "execution_count": 24,
   "id": "57364999",
   "metadata": {},
   "outputs": [
    {
     "data": {
      "text/html": [
       "<style type=\"text/css\">\n",
       "</style>\n",
       "<table id=\"T_01db0\">\n",
       "  <thead>\n",
       "    <tr>\n",
       "      <th class=\"blank level0\" >&nbsp;</th>\n",
       "      <th id=\"T_01db0_level0_col0\" class=\"col_heading level0 col0\" >Всего кредитополучателей</th>\n",
       "      <th id=\"T_01db0_level0_col1\" class=\"col_heading level0 col1\" >Всего должников</th>\n",
       "      <th id=\"T_01db0_level0_col2\" class=\"col_heading level0 col2\" >Доля должников</th>\n",
       "    </tr>\n",
       "    <tr>\n",
       "      <th class=\"index_name level0\" >children</th>\n",
       "      <th class=\"blank col0\" >&nbsp;</th>\n",
       "      <th class=\"blank col1\" >&nbsp;</th>\n",
       "      <th class=\"blank col2\" >&nbsp;</th>\n",
       "    </tr>\n",
       "  </thead>\n",
       "  <tbody>\n",
       "    <tr>\n",
       "      <th id=\"T_01db0_level0_row0\" class=\"row_heading level0 row0\" >5</th>\n",
       "      <td id=\"T_01db0_row0_col0\" class=\"data row0 col0\" >9</td>\n",
       "      <td id=\"T_01db0_row0_col1\" class=\"data row0 col1\" >0</td>\n",
       "      <td id=\"T_01db0_row0_col2\" class=\"data row0 col2\" >0.00%</td>\n",
       "    </tr>\n",
       "    <tr>\n",
       "      <th id=\"T_01db0_level0_row1\" class=\"row_heading level0 row1\" >0</th>\n",
       "      <td id=\"T_01db0_row1_col0\" class=\"data row1 col0\" >14091</td>\n",
       "      <td id=\"T_01db0_row1_col1\" class=\"data row1 col1\" >1063</td>\n",
       "      <td id=\"T_01db0_row1_col2\" class=\"data row1 col2\" >7.54%</td>\n",
       "    </tr>\n",
       "    <tr>\n",
       "      <th id=\"T_01db0_level0_row2\" class=\"row_heading level0 row2\" >3</th>\n",
       "      <td id=\"T_01db0_row2_col0\" class=\"data row2 col0\" >330</td>\n",
       "      <td id=\"T_01db0_row2_col1\" class=\"data row2 col1\" >27</td>\n",
       "      <td id=\"T_01db0_row2_col2\" class=\"data row2 col2\" >8.18%</td>\n",
       "    </tr>\n",
       "    <tr>\n",
       "      <th id=\"T_01db0_level0_row3\" class=\"row_heading level0 row3\" >1</th>\n",
       "      <td id=\"T_01db0_row3_col0\" class=\"data row3 col0\" >4808</td>\n",
       "      <td id=\"T_01db0_row3_col1\" class=\"data row3 col1\" >444</td>\n",
       "      <td id=\"T_01db0_row3_col2\" class=\"data row3 col2\" >9.23%</td>\n",
       "    </tr>\n",
       "    <tr>\n",
       "      <th id=\"T_01db0_level0_row4\" class=\"row_heading level0 row4\" >2</th>\n",
       "      <td id=\"T_01db0_row4_col0\" class=\"data row4 col0\" >2052</td>\n",
       "      <td id=\"T_01db0_row4_col1\" class=\"data row4 col1\" >194</td>\n",
       "      <td id=\"T_01db0_row4_col2\" class=\"data row4 col2\" >9.45%</td>\n",
       "    </tr>\n",
       "    <tr>\n",
       "      <th id=\"T_01db0_level0_row5\" class=\"row_heading level0 row5\" >4</th>\n",
       "      <td id=\"T_01db0_row5_col0\" class=\"data row5 col0\" >41</td>\n",
       "      <td id=\"T_01db0_row5_col1\" class=\"data row5 col1\" >4</td>\n",
       "      <td id=\"T_01db0_row5_col2\" class=\"data row5 col2\" >9.76%</td>\n",
       "    </tr>\n",
       "  </tbody>\n",
       "</table>\n"
      ],
      "text/plain": [
       "<pandas.io.formats.style.Styler at 0x266431a8430>"
      ]
     },
     "execution_count": 24,
     "metadata": {},
     "output_type": "execute_result"
    }
   ],
   "source": [
    "child_debt_dep = data.groupby('children').agg({'debt':['count', 'sum', 'mean']})\n",
    "child_debt_dep.columns = ['Всего кредитополучателей', 'Всего должников', 'Доля должников']\n",
    "child_debt_dep.sort_values('Доля должников').style.format({'Доля должников': '{:,.2%}'.format})"
   ]
  },
  {
   "cell_type": "markdown",
   "id": "7ed47863",
   "metadata": {},
   "source": [
    "В столбце debt выведены в процентах значения отношений просроченного долга к общему количеству заемщиков, сгруппированным по количеству детей. Строки с тремя, четырьмя и пятью детьми учитывать в анализе не будем т.к. маленькие размеры групп этого не позволяют. По оставшимся группам видно, что зависимость неплатежей от количества детей существует. Лучше всего платят бездетные и это вполне логично т.к. когда у тебя есть дети, то приоритет отдается им, а не банку."
   ]
  },
  {
   "cell_type": "markdown",
   "id": "ac249787",
   "metadata": {},
   "source": [
    "### Есть ли зависимость между семейным положением и возвратом кредита в срок?"
   ]
  },
  {
   "cell_type": "code",
   "execution_count": 25,
   "id": "15fb9355",
   "metadata": {
    "scrolled": true
   },
   "outputs": [
    {
     "data": {
      "text/html": [
       "<style type=\"text/css\">\n",
       "</style>\n",
       "<table id=\"T_f6f09\">\n",
       "  <thead>\n",
       "    <tr>\n",
       "      <th class=\"blank level0\" >&nbsp;</th>\n",
       "      <th id=\"T_f6f09_level0_col0\" class=\"col_heading level0 col0\" >Всего кредитополучателей</th>\n",
       "      <th id=\"T_f6f09_level0_col1\" class=\"col_heading level0 col1\" >Всего должников</th>\n",
       "      <th id=\"T_f6f09_level0_col2\" class=\"col_heading level0 col2\" >Доля должников</th>\n",
       "    </tr>\n",
       "    <tr>\n",
       "      <th class=\"index_name level0\" >family_status</th>\n",
       "      <th class=\"blank col0\" >&nbsp;</th>\n",
       "      <th class=\"blank col1\" >&nbsp;</th>\n",
       "      <th class=\"blank col2\" >&nbsp;</th>\n",
       "    </tr>\n",
       "  </thead>\n",
       "  <tbody>\n",
       "    <tr>\n",
       "      <th id=\"T_f6f09_level0_row0\" class=\"row_heading level0 row0\" >вдовец / вдова</th>\n",
       "      <td id=\"T_f6f09_row0_col0\" class=\"data row0 col0\" >951</td>\n",
       "      <td id=\"T_f6f09_row0_col1\" class=\"data row0 col1\" >63</td>\n",
       "      <td id=\"T_f6f09_row0_col2\" class=\"data row0 col2\" >6.62%</td>\n",
       "    </tr>\n",
       "    <tr>\n",
       "      <th id=\"T_f6f09_level0_row1\" class=\"row_heading level0 row1\" >в разводе</th>\n",
       "      <td id=\"T_f6f09_row1_col0\" class=\"data row1 col0\" >1189</td>\n",
       "      <td id=\"T_f6f09_row1_col1\" class=\"data row1 col1\" >84</td>\n",
       "      <td id=\"T_f6f09_row1_col2\" class=\"data row1 col2\" >7.06%</td>\n",
       "    </tr>\n",
       "    <tr>\n",
       "      <th id=\"T_f6f09_level0_row2\" class=\"row_heading level0 row2\" >женат / замужем</th>\n",
       "      <td id=\"T_f6f09_row2_col0\" class=\"data row2 col0\" >12261</td>\n",
       "      <td id=\"T_f6f09_row2_col1\" class=\"data row2 col1\" >927</td>\n",
       "      <td id=\"T_f6f09_row2_col2\" class=\"data row2 col2\" >7.56%</td>\n",
       "    </tr>\n",
       "    <tr>\n",
       "      <th id=\"T_f6f09_level0_row3\" class=\"row_heading level0 row3\" >гражданский брак</th>\n",
       "      <td id=\"T_f6f09_row3_col0\" class=\"data row3 col0\" >4134</td>\n",
       "      <td id=\"T_f6f09_row3_col1\" class=\"data row3 col1\" >385</td>\n",
       "      <td id=\"T_f6f09_row3_col2\" class=\"data row3 col2\" >9.31%</td>\n",
       "    </tr>\n",
       "    <tr>\n",
       "      <th id=\"T_f6f09_level0_row4\" class=\"row_heading level0 row4\" >Не женат / не замужем</th>\n",
       "      <td id=\"T_f6f09_row4_col0\" class=\"data row4 col0\" >2796</td>\n",
       "      <td id=\"T_f6f09_row4_col1\" class=\"data row4 col1\" >273</td>\n",
       "      <td id=\"T_f6f09_row4_col2\" class=\"data row4 col2\" >9.76%</td>\n",
       "    </tr>\n",
       "  </tbody>\n",
       "</table>\n"
      ],
      "text/plain": [
       "<pandas.io.formats.style.Styler at 0x266431a87f0>"
      ]
     },
     "execution_count": 25,
     "metadata": {},
     "output_type": "execute_result"
    }
   ],
   "source": [
    "marital_debt_dep = data.groupby('family_status').agg({'debt':['count', 'sum', 'mean']})\n",
    "marital_debt_dep.columns = ['Всего кредитополучателей', 'Всего должников', 'Доля должников']\n",
    "marital_debt_dep.sort_values('Доля должников').style.format({'Доля должников': '{:,.2%}'.format})"
   ]
  },
  {
   "cell_type": "markdown",
   "id": "52408bcf",
   "metadata": {},
   "source": [
    "В столбце debt выведены в процентах значения отношений просроченного долга к общему количеству заемщиков, сгруппированным по семейному положению. Лучше всего дела обстоят в категории \"вдовец/вдова\". Хуже всех показали себя живущие в гражданском браке и холостяки.  По расчетам можно вывести общую зависимость, что заемщики состоящие или состоявшие в браке лучше выплачивают кредиты."
   ]
  },
  {
   "cell_type": "markdown",
   "id": "8632ee9d",
   "metadata": {},
   "source": [
    "### Есть ли зависимость между уровнем дохода и возвратом кредита в срок?"
   ]
  },
  {
   "cell_type": "code",
   "execution_count": 26,
   "id": "1310569c",
   "metadata": {},
   "outputs": [
    {
     "data": {
      "text/html": [
       "<style type=\"text/css\">\n",
       "</style>\n",
       "<table id=\"T_f58c4\">\n",
       "  <thead>\n",
       "    <tr>\n",
       "      <th class=\"blank level0\" >&nbsp;</th>\n",
       "      <th id=\"T_f58c4_level0_col0\" class=\"col_heading level0 col0\" >Всего кредитополучателей</th>\n",
       "      <th id=\"T_f58c4_level0_col1\" class=\"col_heading level0 col1\" >Всего должников</th>\n",
       "      <th id=\"T_f58c4_level0_col2\" class=\"col_heading level0 col2\" >Доля должников</th>\n",
       "    </tr>\n",
       "    <tr>\n",
       "      <th class=\"index_name level0\" >total_income_category</th>\n",
       "      <th class=\"blank col0\" >&nbsp;</th>\n",
       "      <th class=\"blank col1\" >&nbsp;</th>\n",
       "      <th class=\"blank col2\" >&nbsp;</th>\n",
       "    </tr>\n",
       "  </thead>\n",
       "  <tbody>\n",
       "    <tr>\n",
       "      <th id=\"T_f58c4_level0_row0\" class=\"row_heading level0 row0\" >D</th>\n",
       "      <td id=\"T_f58c4_row0_col0\" class=\"data row0 col0\" >349</td>\n",
       "      <td id=\"T_f58c4_row0_col1\" class=\"data row0 col1\" >21</td>\n",
       "      <td id=\"T_f58c4_row0_col2\" class=\"data row0 col2\" >6.02%</td>\n",
       "    </tr>\n",
       "    <tr>\n",
       "      <th id=\"T_f58c4_level0_row1\" class=\"row_heading level0 row1\" >B</th>\n",
       "      <td id=\"T_f58c4_row1_col0\" class=\"data row1 col0\" >5014</td>\n",
       "      <td id=\"T_f58c4_row1_col1\" class=\"data row1 col1\" >354</td>\n",
       "      <td id=\"T_f58c4_row1_col2\" class=\"data row1 col2\" >7.06%</td>\n",
       "    </tr>\n",
       "    <tr>\n",
       "      <th id=\"T_f58c4_level0_row2\" class=\"row_heading level0 row2\" >A</th>\n",
       "      <td id=\"T_f58c4_row2_col0\" class=\"data row2 col0\" >25</td>\n",
       "      <td id=\"T_f58c4_row2_col1\" class=\"data row2 col1\" >2</td>\n",
       "      <td id=\"T_f58c4_row2_col2\" class=\"data row2 col2\" >8.00%</td>\n",
       "    </tr>\n",
       "    <tr>\n",
       "      <th id=\"T_f58c4_level0_row3\" class=\"row_heading level0 row3\" >C</th>\n",
       "      <td id=\"T_f58c4_row3_col0\" class=\"data row3 col0\" >15921</td>\n",
       "      <td id=\"T_f58c4_row3_col1\" class=\"data row3 col1\" >1353</td>\n",
       "      <td id=\"T_f58c4_row3_col2\" class=\"data row3 col2\" >8.50%</td>\n",
       "    </tr>\n",
       "    <tr>\n",
       "      <th id=\"T_f58c4_level0_row4\" class=\"row_heading level0 row4\" >E</th>\n",
       "      <td id=\"T_f58c4_row4_col0\" class=\"data row4 col0\" >22</td>\n",
       "      <td id=\"T_f58c4_row4_col1\" class=\"data row4 col1\" >2</td>\n",
       "      <td id=\"T_f58c4_row4_col2\" class=\"data row4 col2\" >9.09%</td>\n",
       "    </tr>\n",
       "  </tbody>\n",
       "</table>\n"
      ],
      "text/plain": [
       "<pandas.io.formats.style.Styler at 0x266431a4bb0>"
      ]
     },
     "execution_count": 26,
     "metadata": {},
     "output_type": "execute_result"
    }
   ],
   "source": [
    "income_debt_dep = data.groupby('total_income_category').agg({'debt':['count', 'sum', 'mean']})\n",
    "income_debt_dep.columns = ['Всего кредитополучателей', 'Всего должников', 'Доля должников']\n",
    "income_debt_dep.sort_values('Доля должников').style.format({'Доля должников': '{:,.2%}'.format})"
   ]
  },
  {
   "cell_type": "markdown",
   "id": "9c35d0fc",
   "metadata": {},
   "source": [
    "Судя по таблице, в категориях A, D, E данных недостаточно для проведения анализа. Можно сравнить только категории B и C. Зависимость возвращаемости кредита от уровня дохода присутствует. Чем выше доход, тем лучше платежи."
   ]
  },
  {
   "cell_type": "markdown",
   "id": "e3a72b25",
   "metadata": {},
   "source": [
    "### Как разные цели кредита влияют на его возврат в срок?"
   ]
  },
  {
   "cell_type": "code",
   "execution_count": 27,
   "id": "b5a36a13",
   "metadata": {},
   "outputs": [
    {
     "data": {
      "text/html": [
       "<style type=\"text/css\">\n",
       "</style>\n",
       "<table id=\"T_c7b2f\">\n",
       "  <thead>\n",
       "    <tr>\n",
       "      <th class=\"blank level0\" >&nbsp;</th>\n",
       "      <th id=\"T_c7b2f_level0_col0\" class=\"col_heading level0 col0\" >Всего кредитополучателей</th>\n",
       "      <th id=\"T_c7b2f_level0_col1\" class=\"col_heading level0 col1\" >Всего должников</th>\n",
       "      <th id=\"T_c7b2f_level0_col2\" class=\"col_heading level0 col2\" >Доля должников</th>\n",
       "    </tr>\n",
       "    <tr>\n",
       "      <th class=\"index_name level0\" >purpose_category</th>\n",
       "      <th class=\"blank col0\" >&nbsp;</th>\n",
       "      <th class=\"blank col1\" >&nbsp;</th>\n",
       "      <th class=\"blank col2\" >&nbsp;</th>\n",
       "    </tr>\n",
       "  </thead>\n",
       "  <tbody>\n",
       "    <tr>\n",
       "      <th id=\"T_c7b2f_level0_row0\" class=\"row_heading level0 row0\" >операции с недвижимостью</th>\n",
       "      <td id=\"T_c7b2f_row0_col0\" class=\"data row0 col0\" >10751</td>\n",
       "      <td id=\"T_c7b2f_row0_col1\" class=\"data row0 col1\" >780</td>\n",
       "      <td id=\"T_c7b2f_row0_col2\" class=\"data row0 col2\" >7.26%</td>\n",
       "    </tr>\n",
       "    <tr>\n",
       "      <th id=\"T_c7b2f_level0_row1\" class=\"row_heading level0 row1\" >проведение свадьбы</th>\n",
       "      <td id=\"T_c7b2f_row1_col0\" class=\"data row1 col0\" >2313</td>\n",
       "      <td id=\"T_c7b2f_row1_col1\" class=\"data row1 col1\" >183</td>\n",
       "      <td id=\"T_c7b2f_row1_col2\" class=\"data row1 col2\" >7.91%</td>\n",
       "    </tr>\n",
       "    <tr>\n",
       "      <th id=\"T_c7b2f_level0_row2\" class=\"row_heading level0 row2\" >получение образования</th>\n",
       "      <td id=\"T_c7b2f_row2_col0\" class=\"data row2 col0\" >3988</td>\n",
       "      <td id=\"T_c7b2f_row2_col1\" class=\"data row2 col1\" >369</td>\n",
       "      <td id=\"T_c7b2f_row2_col2\" class=\"data row2 col2\" >9.25%</td>\n",
       "    </tr>\n",
       "    <tr>\n",
       "      <th id=\"T_c7b2f_level0_row3\" class=\"row_heading level0 row3\" >операции с автомобилем</th>\n",
       "      <td id=\"T_c7b2f_row3_col0\" class=\"data row3 col0\" >4279</td>\n",
       "      <td id=\"T_c7b2f_row3_col1\" class=\"data row3 col1\" >400</td>\n",
       "      <td id=\"T_c7b2f_row3_col2\" class=\"data row3 col2\" >9.35%</td>\n",
       "    </tr>\n",
       "  </tbody>\n",
       "</table>\n"
      ],
      "text/plain": [
       "<pandas.io.formats.style.Styler at 0x266431a4460>"
      ]
     },
     "execution_count": 27,
     "metadata": {},
     "output_type": "execute_result"
    }
   ],
   "source": [
    "purpos_debt_dep = data.groupby('purpose_category').agg({'debt':['count', 'sum', 'mean']})\n",
    "purpos_debt_dep.columns = ['Всего кредитополучателей', 'Всего должников', 'Доля должников']\n",
    "purpos_debt_dep.sort_values('Доля должников').style.format({'Доля должников': '{:,.2%}'.format})"
   ]
  },
  {
   "cell_type": "markdown",
   "id": "aae37ef7",
   "metadata": {},
   "source": [
    "Как и следовало ожидать, самый низкий процент невозвратов в категории \"операции с недвижимостью\". Как правило риски потери жилья заставляют человека быть более ответственным. Чего нельзя сказать об операциях с автомобилем, к которым подход самый легкомысленный."
   ]
  },
  {
   "cell_type": "markdown",
   "id": "275942af",
   "metadata": {},
   "source": [
    "### Возможные причины появления пропусков в исходных данных."
   ]
  },
  {
   "cell_type": "markdown",
   "id": "b820e60b",
   "metadata": {},
   "source": [
    "Судя по тому, что пропуски есть в двух столбцах \"трудовой стаж\" и \" ежемесячный доход\", и их количество в обоих столбцах совпадает, скорее всего причиной отсутствия данных является отказ клиента от предоставления этих сведений. Для уточнения, необходимо запросить кредитный отдел банка о возможности выдачи кредитов без подтверждения дохода.\n",
    "Также не стоит исключать и технические ошибки при выгрузке данных, поэтому необходимо также связаться со специалистами, занимающимися этими вопросами.\n",
    "\n",
    "Заполнить пропуски медианным значением — лучшее решение для количественных переменных.  Медиана хороша тем, что на нее практически не влияют нехарактерные для выборки сверхбольшие или сверхмалые значения. Например, если в отдел из четырех человек с окладом в 100'000 руб. взяли пятого с окладом в 200'000руб., то среднее (120'000руб.) создаст иллюзию о росте заработной платы всего отдела. Медиана же (100'000 руб.) выдаст реальное положение дел."
   ]
  },
  {
   "cell_type": "markdown",
   "id": "ddc059dd",
   "metadata": {},
   "source": [
    "## Общий вывод"
   ]
  },
  {
   "cell_type": "markdown",
   "id": "7ebc9123",
   "metadata": {},
   "source": [
    "### 1. Данные"
   ]
  },
  {
   "cell_type": "markdown",
   "id": "bb0336e0",
   "metadata": {},
   "source": [
    "При обработке датасета пришлось удалить 71 строку - дубликаты. Из всего объема данных, это примерно 0.3%, и на точность вычислений это удаление, скорее всего, не повлияло, или повлияло незначительно."
   ]
  },
  {
   "cell_type": "markdown",
   "id": "1382023d",
   "metadata": {},
   "source": [
    "### Исследование"
   ]
  },
  {
   "cell_type": "markdown",
   "id": "83e282c9",
   "metadata": {},
   "source": [
    "Мы проверили четыре гипотезы и установили:\n",
    "    \n",
    "1. Зависимость между количеством детей и возвратом кредита в срок **существует**. Чем меньше детей, тем стабильнее платежи.\n",
    "2. Зависимость между семейным положением и возвратом кредита в срок **существует**. БОльшую ответственность проявляют люди имеющие или имевшие в прошлом опыт супружеских отношений. \n",
    "3. Зависимость между уровнем дохода и возвратом кредита в срок **существует**. Чем больше доход, тем меньше должников.\n",
    "4. Зависимость от цели кредита на его возврат в срок **существует**. Самые ответственные заемщики - те, кто покупает в кредит недвижимость. Самые безответственные - те, кто покупает автомобили и берет деньги на получение образования. "
   ]
  },
  {
   "cell_type": "markdown",
   "id": "3ceee3ba",
   "metadata": {},
   "source": [
    "### Рекомендации"
   ]
  },
  {
   "cell_type": "markdown",
   "id": "ee0c0eaa",
   "metadata": {},
   "source": [
    "- Информацию об удаленных данных и о пропусках в столбцах \"трудовой стаж\" и \"ежемесячный доход\" необходимо сообщить коллегам, занимающимся выгрузкой данных и, возможно, в дальнейшем запрашивать идентификатор клиента;\n",
    "- Сообщить о найденных аномалиях трудового стажа у безработных и пенсионеров;\n",
    "- Сообщить о странном значении пола;\n",
    "- Запросить кредитный отдел банка о возможности выдачи кредитов без подтверждения дохода;"
   ]
  }
 ],
 "metadata": {
  "ExecuteTimeLog": [
   {
    "duration": 453,
    "start_time": "2022-12-05T13:49:34.022Z"
   },
   {
    "duration": 322,
    "start_time": "2022-12-05T13:49:34.477Z"
   },
   {
    "duration": 20,
    "start_time": "2022-12-05T13:49:34.801Z"
   },
   {
    "duration": 10,
    "start_time": "2022-12-05T13:49:34.823Z"
   },
   {
    "duration": 8,
    "start_time": "2022-12-05T13:49:34.835Z"
   },
   {
    "duration": 9,
    "start_time": "2022-12-05T13:49:34.844Z"
   },
   {
    "duration": 4,
    "start_time": "2022-12-05T13:49:34.855Z"
   },
   {
    "duration": 10,
    "start_time": "2022-12-05T13:49:34.860Z"
   },
   {
    "duration": 6,
    "start_time": "2022-12-05T13:49:34.872Z"
   },
   {
    "duration": 39,
    "start_time": "2022-12-05T13:49:34.879Z"
   },
   {
    "duration": 4,
    "start_time": "2022-12-05T13:49:34.920Z"
   },
   {
    "duration": 19,
    "start_time": "2022-12-05T13:49:34.926Z"
   },
   {
    "duration": 30,
    "start_time": "2022-12-05T13:49:34.946Z"
   },
   {
    "duration": 23,
    "start_time": "2022-12-05T13:49:34.978Z"
   },
   {
    "duration": 14,
    "start_time": "2022-12-05T13:49:35.002Z"
   },
   {
    "duration": 14,
    "start_time": "2022-12-05T13:49:35.018Z"
   },
   {
    "duration": 5,
    "start_time": "2022-12-05T13:49:35.034Z"
   },
   {
    "duration": 15,
    "start_time": "2022-12-05T13:49:35.041Z"
   },
   {
    "duration": 258,
    "start_time": "2022-12-05T13:49:35.057Z"
   },
   {
    "duration": 9,
    "start_time": "2022-12-05T13:49:35.316Z"
   },
   {
    "duration": 10,
    "start_time": "2022-12-05T13:49:35.327Z"
   },
   {
    "duration": 9,
    "start_time": "2022-12-05T13:49:35.338Z"
   },
   {
    "duration": 381,
    "start_time": "2022-12-06T14:59:11.521Z"
   },
   {
    "duration": 309,
    "start_time": "2022-12-06T14:59:11.904Z"
   },
   {
    "duration": 24,
    "start_time": "2022-12-06T14:59:12.215Z"
   },
   {
    "duration": 13,
    "start_time": "2022-12-06T14:59:12.242Z"
   },
   {
    "duration": 30,
    "start_time": "2022-12-06T14:59:12.257Z"
   },
   {
    "duration": 26,
    "start_time": "2022-12-06T14:59:12.288Z"
   },
   {
    "duration": 37,
    "start_time": "2022-12-06T14:59:12.315Z"
   },
   {
    "duration": 33,
    "start_time": "2022-12-06T14:59:12.354Z"
   },
   {
    "duration": 9,
    "start_time": "2022-12-06T14:59:12.389Z"
   },
   {
    "duration": 18,
    "start_time": "2022-12-06T14:59:12.401Z"
   },
   {
    "duration": 21,
    "start_time": "2022-12-06T14:59:12.420Z"
   },
   {
    "duration": 32,
    "start_time": "2022-12-06T14:59:12.443Z"
   },
   {
    "duration": 33,
    "start_time": "2022-12-06T14:59:12.477Z"
   },
   {
    "duration": 19,
    "start_time": "2022-12-06T14:59:12.512Z"
   },
   {
    "duration": 28,
    "start_time": "2022-12-06T14:59:12.533Z"
   },
   {
    "duration": 21,
    "start_time": "2022-12-06T14:59:12.563Z"
   },
   {
    "duration": 9,
    "start_time": "2022-12-06T14:59:12.585Z"
   },
   {
    "duration": 17,
    "start_time": "2022-12-06T14:59:12.595Z"
   },
   {
    "duration": 295,
    "start_time": "2022-12-06T14:59:12.614Z"
   },
   {
    "duration": 13,
    "start_time": "2022-12-06T14:59:12.911Z"
   },
   {
    "duration": 19,
    "start_time": "2022-12-06T14:59:12.925Z"
   },
   {
    "duration": 27,
    "start_time": "2022-12-06T14:59:12.945Z"
   }
  ],
  "kernelspec": {
   "display_name": "Python 3 (ipykernel)",
   "language": "python",
   "name": "python3"
  },
  "language_info": {
   "codemirror_mode": {
    "name": "ipython",
    "version": 3
   },
   "file_extension": ".py",
   "mimetype": "text/x-python",
   "name": "python",
   "nbconvert_exporter": "python",
   "pygments_lexer": "ipython3",
   "version": "3.9.13"
  },
  "toc": {
   "base_numbering": 1,
   "nav_menu": {
    "height": "281px",
    "width": "548px"
   },
   "number_sections": true,
   "sideBar": true,
   "skip_h1_title": true,
   "title_cell": "Table of Contents",
   "title_sidebar": "Contents",
   "toc_cell": true,
   "toc_position": {},
   "toc_section_display": true,
   "toc_window_display": false
  }
 },
 "nbformat": 4,
 "nbformat_minor": 5
}
